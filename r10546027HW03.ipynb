{
 "cells": [
  {
   "cell_type": "code",
   "execution_count": 1,
   "metadata": {},
   "outputs": [],
   "source": [
    "import pandas as pd\n",
    "from statsmodels.stats.outliers_influence import variance_inflation_factor\n",
    "import statsmodels.api as sm"
   ]
  },
  {
   "cell_type": "code",
   "execution_count": 2,
   "metadata": {},
   "outputs": [
    {
     "name": "stdout",
     "output_type": "stream",
     "text": [
      "       Features         VIF\n",
      "0         const  763.557531\n",
      "1     cylinders   10.737535\n",
      "2  displacement   21.836792\n",
      "3    horsepower    9.943693\n",
      "4        weight   10.831260\n",
      "5  acceleration    2.625806\n",
      "6    model year    1.244952\n",
      "7        origin    1.772386\n"
     ]
    }
   ],
   "source": [
    "data = pd.read_csv(r\"E:\\course\\資料分析\\Homework\\HW3\\DAdata2.csv\")\n",
    "#variables column\n",
    "X = data[['cylinders', 'displacement', 'horsepower', 'weight', 'acceleration', 'model year','origin']]\n",
    "#add constant\n",
    "X = sm.add_constant(X)\n",
    "# VIF dataframe\n",
    "vif_data = pd.DataFrame()\n",
    "vif_data[\"Features\"] = X.columns\n",
    "# calculating VIF for each feature\n",
    "vif_data[\"VIF\"] = [variance_inflation_factor(X.values, i) for i in range(len(X.columns))]\n",
    "print(vif_data)\n"
   ]
  }
 ],
 "metadata": {
  "kernelspec": {
   "display_name": "Python 3",
   "language": "python",
   "name": "python3"
  },
  "language_info": {
   "codemirror_mode": {
    "name": "ipython",
    "version": 3
   },
   "file_extension": ".py",
   "mimetype": "text/x-python",
   "name": "python",
   "nbconvert_exporter": "python",
   "pygments_lexer": "ipython3",
   "version": "3.7.6"
  }
 },
 "nbformat": 4,
 "nbformat_minor": 4
}
