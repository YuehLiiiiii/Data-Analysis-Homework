{
 "cells": [
  {
   "cell_type": "markdown",
   "metadata": {},
   "source": [
    "#Q5"
   ]
  },
  {
   "cell_type": "code",
   "execution_count": 1,
   "metadata": {},
   "outputs": [],
   "source": [
    "import pandas as pd \n",
    "import numpy as np  \n",
    "from statsmodels.multivariate.manova import MANOVA "
   ]
  },
  {
   "cell_type": "code",
   "execution_count": 2,
   "metadata": {},
   "outputs": [
    {
     "name": "stdout",
     "output_type": "stream",
     "text": [
      "    Gender  Length (𝒙𝟏)  Width (𝒙𝟐)  Height (𝒙𝟑)\n",
      "0        0     4.584967    4.394449     3.637586\n",
      "1        0     4.634729    4.430817     3.637586\n",
      "2        0     4.634729    4.454347     3.737670\n",
      "3        0     4.653960    4.454347     3.737670\n",
      "4        0     4.691348    4.477337     3.784190\n",
      "5        0     4.812184    4.521789     3.912023\n",
      "6        0     4.812184    4.553877     3.828641\n",
      "7        0     4.890349    4.595120     3.931826\n",
      "8        0     4.890349    4.624973     3.931826\n",
      "9        0     4.890349    4.624973     3.931826\n",
      "10       0     4.897840    4.605170     3.871201\n",
      "11       0     4.912655    4.624973     3.891820\n",
      "12       0     4.927254    4.584967     3.931826\n",
      "13       0     4.927254    4.595120     3.931826\n",
      "14       0     4.948760    4.653960     3.970292\n",
      "15       0     4.990433    4.682131     4.043051\n",
      "16       0     5.003946    4.672829     4.007333\n",
      "17       0     5.030438    4.672829     4.025352\n",
      "18       0     5.043425    4.744932     4.143135\n",
      "19       0     5.043425    4.762174     4.094345\n",
      "20       0     5.062595    4.744932     4.127134\n",
      "21       0     5.068904    4.770685     4.143135\n",
      "22       0     5.087596    4.820282     4.110874\n",
      "23       0     5.176150    4.882802     4.204693\n",
      "24       1     4.532599    4.304065     3.610918\n",
      "25       1     4.543295    4.356709     3.555348\n",
      "26       1     4.564348    4.382027     3.555348\n",
      "27       1     4.615121    4.430817     3.663562\n",
      "28       1     4.624973    4.442651     3.637586\n",
      "29       1     4.634729    4.394449     3.610918\n",
      "30       1     4.644391    4.418841     3.663562\n",
      "31       1     4.663439    4.418841     3.663562\n",
      "32       1     4.672829    4.406719     3.637586\n",
      "33       1     4.718499    4.488636     3.688879\n",
      "34       1     4.727388    4.477337     3.688879\n",
      "35       1     4.736198    4.454347     3.688879\n",
      "36       1     4.753590    4.499810     3.761200\n",
      "37       1     4.762174    4.499810     3.713572\n",
      "38       1     4.762174    4.510860     3.713572\n",
      "39       1     4.779123    4.532599     3.713572\n",
      "40       1     4.787492    4.488636     3.688879\n",
      "41       1     4.787492    4.532599     3.784190\n",
      "42       1     4.795791    4.553877     3.737670\n",
      "43       1     4.828314    4.532599     3.806662\n",
      "44       1     4.844187    4.564348     3.806662\n",
      "45       1     4.852030    4.553877     3.806662\n",
      "46       1     4.875197    4.553877     3.828641\n",
      "47       1     4.905275    4.663439     3.850148\n"
     ]
    }
   ],
   "source": [
    "df = pd.read_csv(r\"E:\\course\\資料分析\\Homework\\HW4\\turtle3.csv\") \n",
    "df.columns = df.columns.str.strip() \n",
    "#log transformation\n",
    "df.iloc[:,1:] =  np.log(df.iloc[:,1:]) \n",
    "print(df) \n"
   ]
  },
  {
   "cell_type": "code",
   "execution_count": 3,
   "metadata": {
    "scrolled": true
   },
   "outputs": [
    {
     "name": "stdout",
     "output_type": "stream",
     "text": [
      "                 Multivariate linear model\n",
      "============================================================\n",
      "                                                            \n",
      "------------------------------------------------------------\n",
      "           x0           Value  Num DF  Den DF F Value Pr > F\n",
      "------------------------------------------------------------\n",
      "          Wilks' lambda 0.1765 3.0000 45.0000 69.9917 0.0000\n",
      "         Pillai's trace 0.8235 3.0000 45.0000 69.9917 0.0000\n",
      " Hotelling-Lawley trace 4.6661 3.0000 45.0000 69.9917 0.0000\n",
      "    Roy's greatest root 4.6661 3.0000 45.0000 69.9917 0.0000\n",
      "============================================================\n",
      "\n"
     ]
    }
   ],
   "source": [
    "maov = MANOVA(endog=df.iloc[:,1:], exog=df[\"Gender\"]) \n",
    "print(maov.mv_test()) "
   ]
  },
  {
   "cell_type": "markdown",
   "metadata": {},
   "source": [
    "6(b)"
   ]
  },
  {
   "cell_type": "code",
   "execution_count": 4,
   "metadata": {},
   "outputs": [
    {
     "data": {
      "text/html": [
       "<div>\n",
       "<style scoped>\n",
       "    .dataframe tbody tr th:only-of-type {\n",
       "        vertical-align: middle;\n",
       "    }\n",
       "\n",
       "    .dataframe tbody tr th {\n",
       "        vertical-align: top;\n",
       "    }\n",
       "\n",
       "    .dataframe thead th {\n",
       "        text-align: right;\n",
       "    }\n",
       "</style>\n",
       "<table border=\"1\" class=\"dataframe\">\n",
       "  <thead>\n",
       "    <tr style=\"text-align: right;\">\n",
       "      <th></th>\n",
       "      <th>df</th>\n",
       "      <th>sum_sq</th>\n",
       "      <th>mean_sq</th>\n",
       "      <th>F</th>\n",
       "      <th>PR(&gt;F)</th>\n",
       "    </tr>\n",
       "  </thead>\n",
       "  <tbody>\n",
       "    <tr>\n",
       "      <th>Species</th>\n",
       "      <td>2.0</td>\n",
       "      <td>262.238633</td>\n",
       "      <td>131.119317</td>\n",
       "      <td>28.819649</td>\n",
       "      <td>0.033535</td>\n",
       "    </tr>\n",
       "    <tr>\n",
       "      <th>Nutrient</th>\n",
       "      <td>1.0</td>\n",
       "      <td>4.489350</td>\n",
       "      <td>4.489350</td>\n",
       "      <td>0.986746</td>\n",
       "      <td>0.425217</td>\n",
       "    </tr>\n",
       "    <tr>\n",
       "      <th>Residual</th>\n",
       "      <td>2.0</td>\n",
       "      <td>9.099300</td>\n",
       "      <td>4.549650</td>\n",
       "      <td>NaN</td>\n",
       "      <td>NaN</td>\n",
       "    </tr>\n",
       "  </tbody>\n",
       "</table>\n",
       "</div>"
      ],
      "text/plain": [
       "           df      sum_sq     mean_sq          F    PR(>F)\n",
       "Species   2.0  262.238633  131.119317  28.819649  0.033535\n",
       "Nutrient  1.0    4.489350    4.489350   0.986746  0.425217\n",
       "Residual  2.0    9.099300    4.549650        NaN       NaN"
      ]
     },
     "execution_count": 4,
     "metadata": {},
     "output_type": "execute_result"
    }
   ],
   "source": [
    "d = pd.read_csv(r'E:\\course\\資料分析\\Homework\\HW4\\seedling.csv')\n",
    "from statsmodels.formula.api import ols\n",
    "import statsmodels.api as sm\n",
    "GREEN = ols('GREEN ~ Species + Nutrient', data = d).fit()\n",
    "anova_GREEN = sm.stats.anova_lm(GREEN)\n",
    "anova_GREEN\n",
    "INFRA = ols('INFRA ~ Species + Nutrient', data = d).fit()\n",
    "anova_INFRA= sm.stats.anova_lm(INFRA)\n",
    "anova_INFRA"
   ]
  },
  {
   "cell_type": "code",
   "execution_count": null,
   "metadata": {},
   "outputs": [],
   "source": []
  }
 ],
 "metadata": {
  "kernelspec": {
   "display_name": "Python 3",
   "language": "python",
   "name": "python3"
  },
  "language_info": {
   "codemirror_mode": {
    "name": "ipython",
    "version": 3
   },
   "file_extension": ".py",
   "mimetype": "text/x-python",
   "name": "python",
   "nbconvert_exporter": "python",
   "pygments_lexer": "ipython3",
   "version": "3.7.6"
  }
 },
 "nbformat": 4,
 "nbformat_minor": 4
}
