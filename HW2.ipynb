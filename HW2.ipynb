{
 "cells": [
  {
   "cell_type": "code",
   "execution_count": 2,
   "metadata": {},
   "outputs": [],
   "source": [
    "from PIL import Image\n",
    "import matplotlib.pyplot as plt\n",
    "import numpy\n",
    "from numpy import array\n",
    "import numpy as np\n",
    "import pandas as pd\n",
    "from sklearn import linear_model\n",
    "from sklearn.linear_model import LinearRegression\n",
    "from sklearn.pipeline import make_pipeline\n",
    "from sklearn.datasets import make_regression\n",
    "from sklearn.model_selection import train_test_split\n",
    "from tkinter import _flatten\n",
    "\n",
    "import statsmodels.api as sm\n",
    "import math\n",
    "import random"
   ]
  },
  {
   "cell_type": "markdown",
   "metadata": {},
   "source": [
    "# Q1(a)."
   ]
  },
  {
   "cell_type": "code",
   "execution_count": 3,
   "metadata": {},
   "outputs": [
    {
     "name": "stdout",
     "output_type": "stream",
     "text": [
      "image matrix(400 x 2576):\n",
      "[[ 88.  88.  90. ... 138. 142. 134.]\n",
      " [ 87.  90.  95. ... 124. 120.  88.]\n",
      " [ 92.  92.  88. ... 165. 146. 151.]\n",
      " ...\n",
      " [122. 123. 124. ...  38.  40.  38.]\n",
      " [120. 119. 121. ...  95.  92.  90.]\n",
      " [124. 125. 125. ...  33.  34.  34.]]\n",
      "gender list (400)\n",
      "[0 0 0 0 0 0 0 0 0 0 1 1 1 1 1 1 1 1 1 1 1 1 1 1 1 1 1 1 1 1 1 1 1 1 1 1 1\n",
      " 1 1 1 1 1 1 1 1 1 1 1 1 1 1 1 1 1 1 1 1 1 1 1 1 1 1 1 1 1 1 1 1 1 0 0 0 0\n",
      " 0 0 0 0 0 0 1 1 1 1 1 1 1 1 1 1 0 0 0 0 0 0 0 0 0 0 1 1 1 1 1 1 1 1 1 1 1\n",
      " 1 1 1 1 1 1 1 1 1 1 1 1 1 1 1 1 1 1 1 1 1 1 1 1 1 1 1 1 1 1 1 1 1 1 1 1 1\n",
      " 1 1 1 1 1 1 1 1 1 1 1 1 1 1 1 1 1 1 1 1 1 1 1 1 1 1 1 1 1 1 1 1 1 1 1 1 1\n",
      " 1 1 1 1 1 1 1 1 1 1 1 1 1 1 1 1 1 1 1 1 1 1 1 1 1 1 1 1 1 1 1 1 1 1 1 1 1\n",
      " 1 1 1 1 1 1 1 1 1 1 1 1 1 1 1 1 1 1 1 1 1 1 1 1 1 1 1 1 1 1 1 1 1 1 1 1 1\n",
      " 1 1 1 1 1 1 1 1 1 1 1 1 1 1 1 1 1 1 1 1 1 1 1 1 1 1 1 1 1 1 1 1 1 1 1 1 1\n",
      " 1 1 1 1 1 1 1 1 1 1 1 1 1 1 0 0 0 0 0 0 0 0 0 0 1 1 1 1 1 1 1 1 1 1 1 1 1\n",
      " 1 1 1 1 1 1 1 1 1 1 1 1 1 1 1 1 1 1 1 1 1 1 1 1 1 1 1 1 1 1 1 1 1 1 1 1 1\n",
      " 1 1 1 1 1 1 1 1 1 1 1 1 1 1 1 1 1 1 1 1 1 1 1 1 1 1 1 1 1 1]\n"
     ]
    }
   ],
   "source": [
    "matrix = np.zeros((400,46*56))\n",
    "gender=[]\n",
    "for i in range(0,40):\n",
    "    for j in range(0,10):\n",
    "        data = Image.open('E:\\course\\資料分析\\Homework\\HW2\\ORL Faces\\%s_%s.png'%(i+1,j+1))\n",
    "        image = array(data)\n",
    "        X[j+i*10] = image.flatten()\n",
    "y = [10*[0],10*[1],10*[1],10*[1],10*[1],10*[1],10*[1],10*[0],10*[1],10*[0]\n",
    "         ,10*[1],10*[1],10*[1],10*[1],10*[1],10*[1],10*[1],10*[1],10*[1],10*[1]\n",
    "         ,10*[1],10*[1],10*[1],10*[1],10*[1],10*[1],10*[1],10*[1],10*[1],10*[1]\n",
    "         ,10*[1],10*[0],10*[1],10*[1],10*[1],10*[1],10*[1],10*[1],10*[1],10*[1]]\n",
    "gender = list(_flatten(gender))\n",
    "gender = np.array(gender)\n",
    "a=np.c_[matrix,gender.T]\n",
    "print(\"image matrix(400 x 2576):\")\n",
    "print (matrix)\n",
    "print(\"gender list (400)\")\n",
    "print(gender)\n"
   ]
  },
  {
   "cell_type": "markdown",
   "metadata": {},
   "source": [
    "# (b)-1"
   ]
  },
  {
   "cell_type": "code",
   "execution_count": 3,
   "metadata": {},
   "outputs": [
    {
     "name": "stdout",
     "output_type": "stream",
     "text": [
      "coefficient of determination: 1.0\n",
      "intercept: 1.0371996802349768\n",
      "slope: [ 5.36844607e-05  8.49097733e-05  8.43449481e-05 ... -4.90729523e-05\n",
      " -2.08496414e-04 -1.79191361e-04]\n"
     ]
    }
   ],
   "source": [
    "model = LinearRegression().fit(matrix,gender)\n",
    "\n",
    "R_square = model.score(matrix,gender)\n",
    "\n",
    "print('coefficient of determination:', R_square)\n",
    "print('intercept:', model.intercept_)\n",
    "print('slope:', model.coef_)"
   ]
  },
  {
   "cell_type": "markdown",
   "metadata": {},
   "source": [
    "# (b)-2"
   ]
  },
  {
   "cell_type": "code",
   "execution_count": 4,
   "metadata": {},
   "outputs": [
    {
     "name": "stdout",
     "output_type": "stream",
     "text": [
      "finds 20 important pixels\n"
     ]
    },
    {
     "name": "stderr",
     "output_type": "stream",
     "text": [
      "D:\\Application\\anaconda\\lib\\site-packages\\ipykernel_launcher.py:16: DeprecationWarning: The default dtype for empty Series will be 'object' instead of 'float64' in a future version. Specify a dtype explicitly to silence this warning.\n",
      "  app.launch_new_instance()\n"
     ]
    },
    {
     "name": "stdout",
     "output_type": "stream",
     "text": [
      "Add pixels        2221 with p-value 2.50433e-13\n",
      "Add pixels        1469 with p-value 2.4715e-13\n",
      "Add pixels        2115 with p-value 2.70356e-10\n",
      "Add pixels        2114 with p-value 1.41941e-11\n",
      "Add pixels        2113 with p-value 8.48284e-12\n",
      "Add pixels        2112 with p-value 5.19048e-11\n",
      "Add pixels        2111 with p-value 7.91399e-11\n",
      "Add pixels        2110 with p-value 6.62313e-11\n",
      "Add pixels        2109 with p-value 6.36857e-12\n",
      "Add pixels        2108 with p-value 6.77874e-12\n",
      "Add pixels        2107 with p-value 2.6131e-11\n",
      "Add pixels        2106 with p-value 9.2616e-11\n",
      "Add pixels        2105 with p-value 2.84733e-10\n",
      "Add pixels        2104 with p-value 4.6633e-10\n",
      "Add pixels        2103 with p-value 1.70221e-10\n",
      "Add pixels        2102 with p-value 2.57839e-10\n",
      "Add pixels        2101 with p-value 4.40242e-10\n",
      "Add pixels        2100 with p-value 4.23698e-10\n",
      "Add pixels        2099 with p-value 1.33177e-10\n",
      "Add pixels        2098 with p-value 4.19105e-10\n",
      "20 important pixels:\n",
      "[2221, 1469, 2115, 2114, 2113, 2112, 2111, 2110, 2109, 2108, 2107, 2106, 2105, 2104, 2103, 2102, 2101, 2100, 2099, 2098]\n"
     ]
    }
   ],
   "source": [
    "X = pd.DataFrame(matrix)\n",
    "y = pd.DataFrame(gender)\n",
    "number = 20\n",
    "print(\"finds\",number,\"important pixels\")\n",
    "def stepwise_selection(X, y, \n",
    "                        initial_list=[], \n",
    "                        threshold_in=0.01, \n",
    "                        threshold_out = 0.05, \n",
    "                        verbose=True):\n",
    "\n",
    "    included = list(initial_list)\n",
    "    for i in range(0,number):\n",
    "        changed=False\n",
    "        # forward step\n",
    "        excluded = list(set(X.columns)-set(included))\n",
    "        new_pval = pd.Series(index=excluded)\n",
    "        for new_column in excluded:\n",
    "            model = sm.OLS(y, sm.add_constant(pd.DataFrame(X[included+[new_column]]))).fit()\n",
    "            new_pval[new_column] = model.pvalues[new_column]\n",
    "        best_pval = new_pval.min()\n",
    "        if best_pval < threshold_in:\n",
    "            best_feature = new_pval.argmin()\n",
    "            included.append(best_feature)\n",
    "            changed=True\n",
    "            if verbose:\n",
    "                print('Add pixels  {:10} with p-value {:.6}'.format(best_feature, best_pval))\n",
    "\n",
    "        i = i+1\n",
    "    return included\n",
    "\n",
    "result = stepwise_selection(X, y)\n",
    "\n",
    "print(number,'important pixels:')\n",
    "print(result)"
   ]
  },
  {
   "cell_type": "code",
   "execution_count": 5,
   "metadata": {},
   "outputs": [
    {
     "name": "stdout",
     "output_type": "stream",
     "text": [
      "20 important pixels at\n",
      "( 48 , 13 )\n",
      "( 31 , 43 )\n",
      "( 45 , 45 )\n",
      "( 45 , 44 )\n",
      "( 45 , 43 )\n",
      "( 45 , 42 )\n",
      "( 45 , 41 )\n",
      "( 45 , 40 )\n",
      "( 45 , 39 )\n",
      "( 45 , 38 )\n",
      "( 45 , 37 )\n",
      "( 45 , 36 )\n",
      "( 45 , 35 )\n",
      "( 45 , 34 )\n",
      "( 45 , 33 )\n",
      "( 45 , 32 )\n",
      "( 45 , 31 )\n",
      "( 45 , 30 )\n",
      "( 45 , 29 )\n",
      "( 45 , 28 )\n"
     ]
    },
    {
     "data": {
      "image/png": "[encoded data removed]",
      "text/plain": [
       "<Figure size 432x288 with 1 Axes>"
      ]
     },
     "metadata": {
      "needs_background": "light"
     },
     "output_type": "display_data"
    }
   ],
   "source": [
    "image = Image.open(r\"E:\\course\\資料分析\\Homework\\HW2\\ORL Faces\\1_1.png\")\n",
    "img_array = np.array(image)\n",
    "print(number,\"important pixels at\")\n",
    "for i in range(0, number): #math.floor()\n",
    "    col = math.floor(result[i]/46)\n",
    "    row = result[i]-46*col\n",
    "    print(\"(\",col,\",\", row,\")\")    \n",
    "    img_array[int(col)][int(row)]=255\n",
    "plt.imshow(img_array, interpolation='nearest')\n",
    "plt.show()"
   ]
  },
  {
   "cell_type": "markdown",
   "metadata": {},
   "source": [
    "# Q2"
   ]
  },
  {
   "cell_type": "code",
   "execution_count": 6,
   "metadata": {},
   "outputs": [],
   "source": [
    "mountain_list = pd.read_csv(\"E:\\course\\資料分析\\Homework\\HW2\\Volcano.csv\").values.tolist()\n",
    "mountain_list.reverse()\n",
    "for i in range(0,60):\n",
    "    mountain_list[i].reverse()"
   ]
  },
  {
   "cell_type": "code",
   "execution_count": 7,
   "metadata": {},
   "outputs": [
    {
     "name": "stdout",
     "output_type": "stream",
     "text": [
      "walk 50 steps, searching range 20 x 20\n"
     ]
    }
   ],
   "source": [
    "X1_search_range = 20\n",
    "X2_search_range = 20\n",
    "epoch = 50\n",
    "print(\"walk\",epoch,\"steps, searching range\",X2_search_range,\"x\",X1_search_range)\n",
    "Current_x1 = 0\n",
    "Current_x2 = 0\n",
    "best_location = []\n",
    "best_height = 0\n",
    "Move_to_seq = 0\n",
    "x =[]\n",
    "y=[]\n",
    "\n",
    "def height(x1,x2):\n",
    "    return mountain_list[x1][x2]"
   ]
  },
  {
   "cell_type": "code",
   "execution_count": 8,
   "metadata": {},
   "outputs": [
    {
     "name": "stdout",
     "output_type": "stream",
     "text": [
      "the 0 step\n",
      "current at: ( 87 , 1 )\n",
      "current height: 94\n",
      "move to ( 68 , 20 )\n",
      "\n",
      "the 1 step\n",
      "current at: ( 68 , 20 )\n",
      "current height: 115\n",
      "move to ( 59 , 29 )\n",
      "\n",
      "the 2 step\n",
      "current at: ( 59 , 29 )\n",
      "current height: 140\n",
      "move to ( 50 , 38 )\n",
      "\n",
      "the 3 step\n",
      "current at: ( 50 , 38 )\n",
      "current height: 170\n",
      "move to ( 41 , 28 )\n",
      "\n",
      "the 4 step\n",
      "current at: ( 41 , 28 )\n",
      "current height: 165\n",
      "move to ( 32 , 37 )\n",
      "\n",
      "the 5 step\n",
      "current at: ( 32 , 37 )\n",
      "current height: 177\n",
      "move to ( 23 , 27 )\n",
      "\n",
      "the 6 step\n",
      "current at: ( 23 , 27 )\n",
      "current height: 174\n",
      "move to ( 14 , 36 )\n",
      "\n",
      "the 7 step\n",
      "current at: ( 14 , 36 )\n",
      "current height: 167\n",
      "move to ( 24 , 26 )\n",
      "\n",
      "the 8 step\n",
      "current at: ( 24 , 26 )\n",
      "current height: 169\n",
      "move to ( 15 , 35 )\n",
      "\n",
      "the 9 step\n",
      "current at: ( 15 , 35 )\n",
      "current height: 174\n",
      "move to ( 25 , 25 )\n",
      "\n",
      "the 10 step\n",
      "current at: ( 25 , 25 )\n",
      "current height: 166\n",
      "move to ( 16 , 15 )\n",
      "\n",
      "the 11 step\n",
      "current at: ( 16 , 15 )\n",
      "current height: 149\n",
      "move to ( 26 , 24 )\n",
      "\n",
      "the 12 step\n",
      "current at: ( 26 , 24 )\n",
      "current height: 165\n",
      "move to ( 17 , 14 )\n",
      "\n",
      "the 13 step\n",
      "current at: ( 17 , 14 )\n",
      "current height: 149\n",
      "move to ( 27 , 23 )\n",
      "\n",
      "the 14 step\n",
      "current at: ( 27 , 23 )\n",
      "current height: 166\n",
      "move to ( 18 , 13 )\n",
      "\n",
      "the 15 step\n",
      "current at: ( 18 , 13 )\n",
      "current height: 149\n",
      "move to ( 28 , 22 )\n",
      "\n",
      "the 16 step\n",
      "current at: ( 28 , 22 )\n",
      "current height: 169\n",
      "move to ( 19 , 31 )\n",
      "\n",
      "the 17 step\n",
      "current at: ( 19 , 31 )\n",
      "current height: 193\n",
      "move to ( 29 , 40 )\n",
      "\n",
      "the 18 step\n",
      "current at: ( 29 , 40 )\n",
      "current height: 179\n",
      "move to ( 20 , 30 )\n",
      "\n",
      "the 19 step\n",
      "current at: ( 20 , 30 )\n",
      "current height: 194\n",
      "move to ( 11 , 39 )\n",
      "\n",
      "the 20 step\n",
      "current at: ( 11 , 39 )\n",
      "current height: 145\n",
      "move to ( 21 , 29 )\n",
      "\n",
      "the 21 step\n",
      "current at: ( 21 , 29 )\n",
      "current height: 188\n",
      "move to ( 12 , 38 )\n",
      "\n",
      "the 22 step\n",
      "current at: ( 12 , 38 )\n",
      "current height: 153\n",
      "move to ( 22 , 28 )\n",
      "\n",
      "the 23 step\n",
      "current at: ( 22 , 28 )\n",
      "current height: 182\n",
      "move to ( 13 , 37 )\n",
      "\n",
      "the 24 step\n",
      "current at: ( 13 , 37 )\n",
      "current height: 161\n",
      "move to ( 23 , 27 )\n",
      "\n",
      "the 25 step\n",
      "current at: ( 23 , 27 )\n",
      "current height: 174\n",
      "move to ( 14 , 36 )\n",
      "\n",
      "the 26 step\n",
      "current at: ( 14 , 36 )\n",
      "current height: 167\n",
      "move to ( 24 , 26 )\n",
      "\n",
      "the 27 step\n",
      "current at: ( 24 , 26 )\n",
      "current height: 169\n",
      "move to ( 15 , 35 )\n",
      "\n",
      "the 28 step\n",
      "current at: ( 15 , 35 )\n",
      "current height: 174\n",
      "move to ( 25 , 25 )\n",
      "\n",
      "the 29 step\n",
      "current at: ( 25 , 25 )\n",
      "current height: 166\n",
      "move to ( 16 , 15 )\n",
      "\n",
      "the 30 step\n",
      "current at: ( 16 , 15 )\n",
      "current height: 149\n",
      "move to ( 26 , 24 )\n",
      "\n",
      "the 31 step\n",
      "current at: ( 26 , 24 )\n",
      "current height: 165\n",
      "move to ( 17 , 14 )\n",
      "\n",
      "the 32 step\n",
      "current at: ( 17 , 14 )\n",
      "current height: 149\n",
      "move to ( 27 , 23 )\n",
      "\n",
      "the 33 step\n",
      "current at: ( 27 , 23 )\n",
      "current height: 166\n",
      "move to ( 18 , 13 )\n",
      "\n",
      "the 34 step\n",
      "current at: ( 18 , 13 )\n",
      "current height: 149\n",
      "move to ( 28 , 22 )\n",
      "\n",
      "the 35 step\n",
      "current at: ( 28 , 22 )\n",
      "current height: 169\n",
      "move to ( 19 , 31 )\n",
      "\n",
      "the 36 step\n",
      "current at: ( 19 , 31 )\n",
      "current height: 193\n",
      "move to ( 29 , 40 )\n",
      "\n",
      "the 37 step\n",
      "current at: ( 29 , 40 )\n",
      "current height: 179\n",
      "move to ( 20 , 30 )\n",
      "\n",
      "the 38 step\n",
      "current at: ( 20 , 30 )\n",
      "current height: 194\n",
      "move to ( 11 , 39 )\n",
      "\n",
      "the 39 step\n",
      "current at: ( 11 , 39 )\n",
      "current height: 145\n",
      "move to ( 21 , 29 )\n",
      "\n",
      "the 40 step\n",
      "current at: ( 21 , 29 )\n",
      "current height: 188\n",
      "move to ( 12 , 38 )\n",
      "\n",
      "the 41 step\n",
      "current at: ( 12 , 38 )\n",
      "current height: 153\n",
      "move to ( 22 , 28 )\n",
      "\n",
      "the 42 step\n",
      "current at: ( 22 , 28 )\n",
      "current height: 182\n",
      "move to ( 13 , 37 )\n",
      "\n",
      "the 43 step\n",
      "current at: ( 13 , 37 )\n",
      "current height: 161\n",
      "move to ( 23 , 27 )\n",
      "\n",
      "the 44 step\n",
      "current at: ( 23 , 27 )\n",
      "current height: 174\n",
      "move to ( 14 , 36 )\n",
      "\n",
      "the 45 step\n",
      "current at: ( 14 , 36 )\n",
      "current height: 167\n",
      "move to ( 24 , 26 )\n",
      "\n",
      "the 46 step\n",
      "current at: ( 24 , 26 )\n",
      "current height: 169\n",
      "move to ( 15 , 35 )\n",
      "\n",
      "the 47 step\n",
      "current at: ( 15 , 35 )\n",
      "current height: 174\n",
      "move to ( 25 , 25 )\n",
      "\n",
      "the 48 step\n",
      "current at: ( 25 , 25 )\n",
      "current height: 166\n",
      "move to ( 16 , 15 )\n",
      "\n",
      "the 49 step\n",
      "current at: ( 16 , 15 )\n",
      "current height: 149\n",
      "move to ( 26 , 24 )\n",
      "\n",
      "the best height is: 194\n",
      "at location ( 20 , 30 ) , after 50 times search\n"
     ]
    }
   ],
   "source": [
    "for i in range (0,epoch):\n",
    "    print(\"the\",i,\"step\")\n",
    "    print(\"current at:\",\"(\",87-Current_x2,\",\",Current_x1+1,\")\")\n",
    "    print(\"current height:\",mountain_list[Current_x1][Current_x2])\n",
    "    index = 0\n",
    "    x.clear()\n",
    "    y.clear()\n",
    "    x=[[0]*2 for i in range(X1_search_range*X2_search_range)]\n",
    "    y=[[0]*2 for i in range(X1_search_range*X2_search_range)]\n",
    "\n",
    "    if Current_x1>=((X1_search_range-1)/2) and Current_x1>=((X2_search_range-1)/2):\n",
    "        for i in range(0,X1_search_range):\n",
    "            for j in range(0,X2_search_range):        \n",
    "                x[index][0] = int((Current_x1+i)-((X1_search_range-1)/2))\n",
    "                x[index][1] = int((Current_x2+j)-((X2_search_range-1)/2))\n",
    "                index = index+1\n",
    "    else:\n",
    "        for i in range(0,X1_search_range):\n",
    "            for j in range(0,X2_search_range):        \n",
    "                x[index][0] = int(Current_x1+i)\n",
    "                x[index][1] = int(Current_x2+j)\n",
    "                index = index+1\n",
    "    for i in range(0,X1_search_range*X2_search_range):\n",
    "        y[i] = height(x[i][0],x[i][1])\n",
    "        \n",
    "    model = LinearRegression().fit(x,y)\n",
    "    prediction = model.predict(x)\n",
    "    index = np.argmax(prediction)\n",
    "\n",
    "    l = len(prediction)\n",
    "    index = np.argmax(prediction)\n",
    "    NewPosition = x[index]\n",
    "    print(\"move to\",\"(\",87-NewPosition[1],\",\",NewPosition[0]+1,\")\")\n",
    "    print(\"\")\n",
    "    Current_x1 = NewPosition[0]\n",
    "    Current_x2 = NewPosition[1]\n",
    "    if best_height < height(Current_x1,Current_x2):\n",
    "        best_location = [Current_x1,Current_x2]\n",
    "        best_height = height(Current_x1,Current_x2)\n",
    "print (\"the best height is:\",best_height)\n",
    "print (\"at location\",\"(\",87-best_location[1],\",\",best_location[0]+1,\")\",\", after\",epoch,\"times search\")"
   ]
  },
  {
   "cell_type": "markdown",
   "metadata": {},
   "source": [
    "# Q3(a)"
   ]
  },
  {
   "cell_type": "code",
   "execution_count": 9,
   "metadata": {},
   "outputs": [],
   "source": [
    "X, y = make_regression(n_features=2, n_samples=50000, random_state=0)"
   ]
  },
  {
   "cell_type": "code",
   "execution_count": 10,
   "metadata": {},
   "outputs": [
    {
     "data": {
      "text/plain": [
       "array([[-0.37593781,  1.06476617],\n",
       "       [-0.64206113, -0.78963039],\n",
       "       [-1.49914839, -0.38969902],\n",
       "       ...,\n",
       "       [-0.11306645,  0.18135584],\n",
       "       [-0.05802977, -0.15579882],\n",
       "       [ 0.27877173, -2.95533762]])"
      ]
     },
     "execution_count": 10,
     "metadata": {},
     "output_type": "execute_result"
    }
   ],
   "source": [
    "X"
   ]
  },
  {
   "cell_type": "code",
   "execution_count": 11,
   "metadata": {},
   "outputs": [],
   "source": [
    "X_train, X_test, y_train, y_test = train_test_split(X, y, test_size = 0.3, random_state = 0)"
   ]
  },
  {
   "cell_type": "code",
   "execution_count": 12,
   "metadata": {},
   "outputs": [
    {
     "data": {
      "text/plain": [
       "LinearRegression(copy_X=True, fit_intercept=True, n_jobs=None, normalize=False)"
      ]
     },
     "execution_count": 12,
     "metadata": {},
     "output_type": "execute_result"
    }
   ],
   "source": [
    "regr = linear_model.LinearRegression()\n",
    "regr.fit(X_train, y_train)"
   ]
  },
  {
   "cell_type": "code",
   "execution_count": 13,
   "metadata": {},
   "outputs": [
    {
     "data": {
      "text/plain": [
       "2.525757381022231e-15"
      ]
     },
     "execution_count": 13,
     "metadata": {},
     "output_type": "execute_result"
    }
   ],
   "source": [
    "regr.intercept_"
   ]
  },
  {
   "cell_type": "code",
   "execution_count": 14,
   "metadata": {},
   "outputs": [
    {
     "data": {
      "text/plain": [
       "array([79.15856985, 39.0479674 ])"
      ]
     },
     "execution_count": 14,
     "metadata": {},
     "output_type": "execute_result"
    }
   ],
   "source": [
    "regr.coef_"
   ]
  },
  {
   "cell_type": "code",
   "execution_count": 15,
   "metadata": {},
   "outputs": [
    {
     "data": {
      "text/plain": [
       "1.0"
      ]
     },
     "execution_count": 15,
     "metadata": {},
     "output_type": "execute_result"
    }
   ],
   "source": [
    "regr.score(X_train,y_train)"
   ]
  },
  {
   "cell_type": "code",
   "execution_count": 16,
   "metadata": {},
   "outputs": [
    {
     "data": {
      "text/plain": [
       "1.0"
      ]
     },
     "execution_count": 16,
     "metadata": {},
     "output_type": "execute_result"
    }
   ],
   "source": [
    "regr.score(X_test,y_test)"
   ]
  },
  {
   "cell_type": "markdown",
   "metadata": {},
   "source": [
    "# Q3(b)"
   ]
  },
  {
   "cell_type": "code",
   "execution_count": 17,
   "metadata": {},
   "outputs": [
    {
     "name": "stdout",
     "output_type": "stream",
     "text": [
      "sse: 419816885.88\n",
      "sse: 395476520.62\n",
      "sse: 373509361.83\n",
      "sse: 353684021.93\n",
      "sse: 335791673.6\n",
      "sse: 319643850.2\n",
      "sse: 305070460.59\n",
      "sse: 291917997.5\n",
      "sse: 280047920.62\n",
      "sse: 269335197.31\n",
      "sse: 259666985.63\n",
      "sse: 250941445.71\n",
      "sse: 243066667.08\n",
      "sse: 235959700.52\n",
      "sse: 229545684.38\n",
      "sse: 223757056.0\n",
      "sse: 218532840.09\n",
      "sse: 213818006.45\n",
      "sse: 209562890.31\n",
      "sse: 205722669.24\n",
      "sse: 202256890.96\n",
      "sse: 199129047.32\n",
      "sse: 196306189.7\n",
      "sse: 193758581.96\n",
      "sse: 191459387.26\n",
      "sse: 189384385.33\n",
      "sse: 187511717.37\n",
      "sse: 185821655.84\n",
      "sse: 184296396.6\n",
      "sse: 182919871.45\n",
      "sse: 181677578.8\n",
      "sse: 180556431.01\n",
      "sse: 179544616.44\n",
      "sse: 178631475.11\n",
      "sse: 177807386.39\n",
      "sse: 177063667.64\n",
      "sse: 176392482.8\n",
      "sse: 175786759.82\n",
      "sse: 175240116.16\n",
      "sse: 174746791.6\n",
      "sse: 174301587.52\n",
      "sse: 173899812.19\n",
      "sse: 173537231.29\n",
      "sse: 173210023.37\n",
      "sse: 172914739.58\n",
      "sse: 172648267.3\n",
      "sse: 172407797.42\n",
      "sse: 172190794.71\n",
      "sse: 171994971.11\n",
      "sse: 171818261.67\n",
      "sse from 419816885.88 dwindle to 171818261.67 , after 50 iteration\n",
      "b0: 7.76\n",
      "b1: 4.99\n",
      "b2: 3.01\n"
     ]
    }
   ],
   "source": [
    "b0 = 100\n",
    "b1 = 5\n",
    "b2 = 3\n",
    "sse_array=[]\n",
    "step_size = 0.000001\n",
    "epoch = 50\n",
    "\n",
    "def y_head(X):\n",
    "    y_head = b0 + b1*X[0] +b2*X[1]\n",
    "    return y_head\n",
    "\n",
    "def get_loss_fuction(b0,b1,b2):\n",
    "    loss_array=[]\n",
    "    for i in range(0,len(X)):\n",
    "        loss_array.append((y[i]-y_head(X[i])))\n",
    "    return loss_array\n",
    "\n",
    "def cal_SSE(loss):\n",
    "    total_loss_squre = 0\n",
    "    for i in range(0,len(loss)):\n",
    "        total_loss_squre = total_loss_squre +loss[i]**2\n",
    "    return total_loss_squre/2\n",
    "\n",
    "def Xi_cross_bi (X,e):\n",
    "    eixi=[]\n",
    "    for i in range(0,len(X)):\n",
    "        eixi.append(X[i]*e[i])\n",
    "    return eixi\n",
    "\n",
    "for t in range(0,epoch):\n",
    "    loss_array = get_loss_fuction(b0,b1,b2)\n",
    "    sse = cal_SSE(loss_array)\n",
    "    print(\"sse:\",round(sse,2))\n",
    "    sse_array.append(sse)\n",
    "    b0 = b0 + step_size*sum(loss_array)\n",
    "    b1 = b1 + step_size*sum(Xi_cross_bi(X[0],loss_array))\n",
    "    b2 = b2 + step_size*sum(Xi_cross_bi(X[1],loss_array))\n",
    "    \n",
    "\n",
    "print(\"sse from\",round(sse_array[0],2),\"dwindle to\",round(sse_array[epoch -1],2),\", after\",epoch,\"iteration\")\n",
    "print(\"b0:\",round(b0,2))\n",
    "print(\"b1:\",round(b1,2))\n",
    "print(\"b2:\",round(b2,2))"
   ]
  },
  {
   "cell_type": "code",
   "execution_count": null,
   "metadata": {},
   "outputs": [],
   "source": []
  },
  {
   "cell_type": "code",
   "execution_count": null,
   "metadata": {},
   "outputs": [],
   "source": []
  }
 ],
 "metadata": {
  "kernelspec": {
   "display_name": "Python 3",
   "language": "python",
   "name": "python3"
  },
  "language_info": {
   "codemirror_mode": {
    "name": "ipython",
    "version": 3
   },
   "file_extension": ".py",
   "mimetype": "text/x-python",
   "name": "python",
   "nbconvert_exporter": "python",
   "pygments_lexer": "ipython3",
   "version": "3.7.6"
  }
 },
 "nbformat": 4,
 "nbformat_minor": 4
}
